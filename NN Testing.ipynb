{
 "cells": [
  {
   "cell_type": "code",
   "execution_count": null,
   "metadata": {
    "colab": {},
    "colab_type": "code",
    "id": "IOb8niKdz9ag"
   },
   "outputs": [],
   "source": [
    "# Import the required libraries\n",
    "import cv2\n",
    "import numpy as np\n",
    "import matplotlib.pyplot as plt\n",
    "from keras.models import Sequential\n",
    "from keras.layers import Dense, Conv2D, Flatten"
   ]
  },
  {
   "cell_type": "code",
   "execution_count": null,
   "metadata": {
    "colab": {},
    "colab_type": "code",
    "id": "wcr-hTQ8en2f"
   },
   "outputs": [],
   "source": [
    "# Load the Neural Network\n",
    "model = Sequential()\n",
    "model.add(Conv2D(24, kernel_size = 3, activation = 'relu', input_shape = (28, 28, 1)))\n",
    "model.add(Conv2D(24, kernel_size = 3, activation = 'relu'))\n",
    "model.add(Flatten())\n",
    "model.add(Dense(47, activation = 'softmax'))\n",
    "model.load_weights('weights.h5')"
   ]
  },
  {
   "cell_type": "code",
   "execution_count": null,
   "metadata": {},
   "outputs": [],
   "source": [
    "# A function to perform predictions using the loaded network\n",
    "mapping = \"0123456789ABCDEFGHIJKLMNOPQRSTUVWXYZabdefghnqrt\"\n",
    "def predict(image):\n",
    "    image = cv2.copyMakeBorder(image, 15, 15, 15, 15, cv2.BORDER_CONSTANT) # Padding added\n",
    "    image = cv2.resize(image, (28,28)).reshape(1, 28, 28, 1)/255 # Resized, reshaped and normalised\n",
    "    return mapping[np.argmax(model.predict(image))]"
   ]
  },
  {
   "cell_type": "code",
   "execution_count": null,
   "metadata": {},
   "outputs": [],
   "source": [
    "# Either capture an image from Web Cam...\n",
    "cam = cv2.VideoCapture(0)\n",
    "while True:\n",
    "    _, frame = cam.read()\n",
    "    cv2.imshow(\"Camera\", frame)\n",
    "    if cv2.waitKey(1)%256 == 32:    # if Space pressed\n",
    "        image = frame\n",
    "        break\n",
    "cam.release()\n",
    "cv2.destroyAllWindows()"
   ]
  },
  {
   "cell_type": "code",
   "execution_count": null,
   "metadata": {},
   "outputs": [],
   "source": [
    "# ... or read an existing one from disc\n",
    "image = cv2.imread('1.jpg')"
   ]
  },
  {
   "cell_type": "code",
   "execution_count": null,
   "metadata": {},
   "outputs": [],
   "source": [
    "# Downscale the image to 720p and convert to grayscale\n",
    "if image.shape[0] > 720:\n",
    "    scale = 720 / image.shape[0]\n",
    "    width = int(image.shape[1] * scale)\n",
    "    height = int(image.shape[0] * scale)\n",
    "    image = cv2.resize(image, (width, height))\n",
    "    \n",
    "gray = cv2.cvtColor(image, cv2.COLOR_BGR2GRAY)\n",
    "\n",
    "plt.imshow(gray, cmap = \"gray\")\n",
    "plt.show()"
   ]
  },
  {
   "cell_type": "code",
   "execution_count": null,
   "metadata": {},
   "outputs": [],
   "source": [
    "# Increase the contrast if necessary\n",
    "gray = cv2.convertScaleAbs(gray, alpha = 1.4, beta = 0) # more alpha = more contrast\n",
    "plt.imshow(gray, cmap = \"gray\")\n",
    "plt.show()"
   ]
  },
  {
   "cell_type": "code",
   "execution_count": null,
   "metadata": {},
   "outputs": [],
   "source": [
    "# Thicken the handwriting if necessary \n",
    "kernel = np.ones((3, 3), np.uint8) \n",
    "gray = cv2.erode(gray, kernel, iterations = 1) # more iterations = more thick blacks\n",
    "plt.imshow(gray, cmap = \"gray\")\n",
    "plt.show()"
   ]
  },
  {
   "cell_type": "code",
   "execution_count": null,
   "metadata": {},
   "outputs": [],
   "source": [
    "# Use histogram to decide the threshold\n",
    "plt.subplot(1, 2, 2)\n",
    "plt.hist(gray.ravel(),256,[0,256])\n",
    "plt.subplot(1, 2, 1)\n",
    "plt.imshow(gray, cmap = \"gray\")\n",
    "plt.tight_layout()\n",
    "plt.show()"
   ]
  },
  {
   "cell_type": "code",
   "execution_count": null,
   "metadata": {},
   "outputs": [],
   "source": [
    "# Convert the image from gray to binary using the threshold\n",
    "thresh = cv2.threshold(gray,180, 255, cv2.THRESH_BINARY_INV)[1] # second value is the threshold\n",
    "plt.imshow(thresh)\n",
    "plt.show()"
   ]
  },
  {
   "cell_type": "code",
   "execution_count": null,
   "metadata": {},
   "outputs": [],
   "source": [
    "output_image = image.copy()\n",
    "contours = cv2.findContours(thresh, cv2.RETR_EXTERNAL, cv2.CHAIN_APPROX_SIMPLE)\n",
    "contours = contours[0] if len(contours) == 2 else contours[1]\n",
    "for contour in contours:\n",
    "    x, y, w, h = cv2.boundingRect(contour)\n",
    "    if w+h > 40:\n",
    "        cv2.rectangle(output_image, (x-3, y-20), (x+w+3, y+h+3), (0,255,0), 2)\n",
    "        char = predict(thresh[y:y+h, x:x+w])\n",
    "        output_image = cv2.putText(output_image, char, (x-3,y-3), cv2.FONT_HERSHEY_SIMPLEX , 0.7, (255,0,0), 1, cv2.LINE_AA)\n",
    "cv2.imshow('Output', output_image)\n",
    "_ = cv2.waitKey()"
   ]
  },
  {
   "cell_type": "code",
   "execution_count": null,
   "metadata": {},
   "outputs": [],
   "source": [
    "cv2.imwrite(\"Output 4.png\", output_image)"
   ]
  }
 ],
 "metadata": {
  "colab": {
   "collapsed_sections": [],
   "name": "Handwriting Recognition",
   "provenance": []
  },
  "kernelspec": {
   "display_name": "Python 3",
   "language": "python",
   "name": "python3"
  },
  "language_info": {
   "codemirror_mode": {
    "name": "ipython",
    "version": 3
   },
   "file_extension": ".py",
   "mimetype": "text/x-python",
   "name": "python",
   "nbconvert_exporter": "python",
   "pygments_lexer": "ipython3",
   "version": "3.7.7-final"
  }
 },
 "nbformat": 4,
 "nbformat_minor": 1
}