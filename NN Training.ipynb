{
 "cells": [
  {
   "cell_type": "code",
   "execution_count": null,
   "metadata": {
    "colab": {},
    "colab_type": "code",
    "id": "82URLJqvxBOh"
   },
   "outputs": [],
   "source": [
    "!pip install tensorflow==1.14 emnist keras numpy"
   ]
  },
  {
   "cell_type": "code",
   "execution_count": null,
   "metadata": {
    "colab": {},
    "colab_type": "code",
    "id": "RU33Dh_YwIfH"
   },
   "outputs": [
    {
     "name": "stderr",
     "output_type": "stream",
     "text": [
      "Using TensorFlow backend.\n"
     ]
    }
   ],
   "source": [
    "from keras.models import Sequential\n",
    "from keras.layers import Dense, Conv2D, Flatten\n",
    "from keras.utils import to_categorical\n",
    "from emnist import extract_training_samples, extract_test_samples"
   ]
  },
  {
   "cell_type": "code",
   "execution_count": null,
   "metadata": {
    "colab": {},
    "colab_type": "code",
    "id": "-AP7pULAo_-c"
   },
   "outputs": [],
   "source": [
    "train_images, train_labels = extract_training_samples('balanced')\n",
    "test_images, test_labels = extract_test_samples('balanced')"
   ]
  },
  {
   "cell_type": "code",
   "execution_count": null,
   "metadata": {
    "colab": {},
    "colab_type": "code",
    "id": "RuFY3KOhydvU"
   },
   "outputs": [],
   "source": [
    "train_images = train_images.reshape(len(train_images), 28, 28, 1)/255\n",
    "test_images = test_images.reshape(len(test_images), 28, 28, 1)/255\n",
    "train_labels = to_categorical(train_labels)\n",
    "test_labels = to_categorical(test_labels)"
   ]
  },
  {
   "cell_type": "code",
   "execution_count": null,
   "metadata": {
    "colab": {},
    "colab_type": "code",
    "id": "y-GpzSfKpPdq"
   },
   "outputs": [],
   "source": [
    "model = Sequential()\n",
    "model.add(Conv2D(24, kernel_size = 3, activation = 'relu', input_shape = (28, 28, 1)))\n",
    "model.add(Conv2D(24, kernel_size = 3, activation = 'relu'))\n",
    "model.add(Flatten())\n",
    "model.add(Dense(47, activation = 'softmax'))"
   ]
  },
  {
   "cell_type": "code",
   "execution_count": null,
   "metadata": {
    "colab": {
     "base_uri": "https://localhost:8080/",
     "height": 151
    },
    "colab_type": "code",
    "id": "y0zywhZsqV5N",
    "outputId": "c72378c0-539c-46a2-e1ea-2fb613800d6d"
   },
   "outputs": [],
   "source": [
    "model.compile(optimizer = 'adam', loss = 'categorical_crossentropy', metrics = ['accuracy'])\n",
    "model.fit(train_images, train_labels, validation_data = (test_images, test_labels), epochs = 3)"
   ]
  },
  {
   "cell_type": "code",
   "execution_count": null,
   "metadata": {
    "colab": {
     "base_uri": "https://localhost:8080/",
     "height": 121
    },
    "colab_type": "code",
    "id": "ZIsT-_LnRQnB",
    "outputId": "e3ab8a5d-3516-4b85-da44-b8110b7a5c94"
   },
   "outputs": [],
   "source": [
    "model.save_weights('weights.h5')"
   ]
  }
 ],
 "metadata": {
  "colab": {
   "collapsed_sections": [],
   "name": "Copy of Welcome To Colaboratory",
   "provenance": [],
   "toc_visible": true
  },
  "kernelspec": {
   "display_name": "Python 3",
   "language": "python",
   "name": "python3"
  },
  "language_info": {
   "codemirror_mode": {
    "name": "ipython",
    "version": 3
   },
   "file_extension": ".py",
   "mimetype": "text/x-python",
   "name": "python",
   "nbconvert_exporter": "python",
   "pygments_lexer": "ipython3",
   "version": "3.7.7"
  }
 },
 "nbformat": 4,
 "nbformat_minor": 1
}