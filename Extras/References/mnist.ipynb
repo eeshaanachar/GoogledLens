{
 "cells": [
  {
   "cell_type": "code",
   "execution_count": null,
   "metadata": {
    "colab": {
     "base_uri": "https://localhost:8080/",
     "height": 510
    },
    "colab_type": "code",
    "id": "cEUq8cIBTeiX",
    "outputId": "ecb56659-6540-4ae5-aaea-8dbff9a38922"
   },
   "outputs": [],
   "source": [
    "# Description: This program classifies the MNIST handwritten digit images\n",
    "#              as a number 0 - 9\n",
    "\n",
    "# Install packages\n",
    "pip install tensorflow keras numpy mnist matplotlib"
   ]
  },
  {
   "cell_type": "code",
   "execution_count": null,
   "metadata": {
    "colab": {},
    "colab_type": "code",
    "id": "ehnsueDUUI1r"
   },
   "outputs": [],
   "source": [
    "#import the packages / dependecies\n",
    "import numpy as np \n",
    "import mnist # Get data set from\n",
    "from keras.models import Sequential #ANN architecture\n",
    "from keras. layers import Dense # The layers in the ANN\n",
    "from keras.utils import to_categorical\n",
    "import matplotlib.pyplot as plt # Graph"
   ]
  },
  {
   "cell_type": "code",
   "execution_count": null,
   "metadata": {
    "colab": {},
    "colab_type": "code",
    "id": "bNiQWH_NUhTy"
   },
   "outputs": [],
   "source": [
    "#Load the data set\n",
    "train_images = mnist.train_images() # training data of images\n",
    "train_labels = mnist.train_labels() # training data of the labels\n",
    "test_images = mnist. test_images()  # testing data images\n",
    "test_labels = mnist.test_labels()   # testing data labels"
   ]
  },
  {
   "cell_type": "code",
   "execution_count": null,
   "metadata": {
    "colab": {
     "base_uri": "https://localhost:8080/",
     "height": 51
    },
    "colab_type": "code",
    "id": "VY0-HNI-VDgR",
    "outputId": "49555bf2-1dd4-407e-8579-e8824dd48b07"
   },
   "outputs": [],
   "source": [
    "#Normalize the images \n",
    "#Normalize the pixel values from [0, 255] to [-0.5 to 0.5]\n",
    "#This make the network easier to train\n",
    "train_images = (train_images / 255) - 0.5\n",
    "test_images = (test_images/ 255) - 0.5\n",
    "\n",
    "#Flatten the images. Flatten each 28 x 28 image into a 784= 28^2 \n",
    "#dimensional vector and pass into the neural network\n",
    "train_images = train_images.reshape((-1, 784))\n",
    "test_images = test_images.reshape((-1,784))\n",
    "#print the new image shape\n",
    "print(train_images.shape) #60,000 rows and 784 cols\n",
    "print(test_images.shape)  #10,000 rows and 784 cols"
   ]
  },
  {
   "cell_type": "code",
   "execution_count": null,
   "metadata": {
    "colab": {},
    "colab_type": "code",
    "id": "eYpbz8nsWerD"
   },
   "outputs": [],
   "source": [
    "#Build the ANN model\n",
    "#With 3 layers, 2 with 64 neurons and activation function = relu\n",
    "#    and  1 layer with 10 neurons with activation function= softmax\n",
    "model = Sequential()\n",
    "model.add(Dense(64, activation='relu', input_dim=784))\n",
    "model.add(Dense(64, activation='relu'))\n",
    "model.add(Dense(10, activation='softmax'))"
   ]
  },
  {
   "cell_type": "code",
   "execution_count": null,
   "metadata": {
    "colab": {},
    "colab_type": "code",
    "id": "NG9dfatZXlTk"
   },
   "outputs": [],
   "source": [
    "#Compile the model\n",
    "# loss measures how well the model did on training, and then tries to improve on\n",
    "# it using the optimizer\n",
    "model.compile(\n",
    "  optimizer= 'adam',\n",
    "    loss = 'categorical_crossentropy', #loss function for classes > 2\n",
    "    metrics = ['accuracy']\n",
    ")"
   ]
  },
  {
   "cell_type": "code",
   "execution_count": null,
   "metadata": {
    "colab": {
     "base_uri": "https://localhost:8080/",
     "height": 204
    },
    "colab_type": "code",
    "id": "yhMQSC4AYBjt",
    "outputId": "18664389-7bd8-498f-90a4-b8033efd8d8e"
   },
   "outputs": [],
   "source": [
    "#Train the model\n",
    "model.fit(\n",
    "    train_images, #The training data images\n",
    "    to_categorical(train_labels),#The trainind data labels, label data only returns a single digit representing the class of each label Ex: train_labels = 2,to_categorical(2)= [0,0,1,0,0,0,0,0,0,0]\n",
    "    epochs=5, #Number of iterations over the entire data set to train on\n",
    "    batch_size = 3 #The number of samples per gradient update for training\n",
    ")"
   ]
  },
  {
   "cell_type": "code",
   "execution_count": null,
   "metadata": {
    "colab": {
     "base_uri": "https://localhost:8080/",
     "height": 51
    },
    "colab_type": "code",
    "id": "_6Df_KcYaPsd",
    "outputId": "2a0472dc-1a26-4e58-c350-c276553361a5"
   },
   "outputs": [],
   "source": [
    "#Evaluate the model\n",
    "model.evaluate(\n",
    "  test_images,\n",
    "  to_categorical(test_labels)\n",
    ")"
   ]
  },
  {
   "cell_type": "code",
   "execution_count": null,
   "metadata": {
    "colab": {},
    "colab_type": "code",
    "id": "3kTAapL9akr0"
   },
   "outputs": [],
   "source": [
    "#save the model to disk\n",
    "model.save_weights('model.h5')\n",
    "# Load the model from disk later using:\n",
    "# Build the model.\n",
    "#model = Sequential([\n",
    "#  Dense(64, activation='relu', input_shape=(784,)),\n",
    "#  Dense(64, activation='relu'),\n",
    "#  Dense(10, activation='softmax'),\n",
    "#])\n",
    "# model.load_weights('model.h5')"
   ]
  },
  {
   "cell_type": "code",
   "execution_count": null,
   "metadata": {
    "colab": {
     "base_uri": "https://localhost:8080/",
     "height": 51
    },
    "colab_type": "code",
    "id": "LBcV8923a0MW",
    "outputId": "c04291a7-92ae-4b06-a1e7-39849fd5712e"
   },
   "outputs": [],
   "source": [
    "#Make predictions\n",
    "# Predict on the first 5 test images.\n",
    "# Keep in mind that the output of our network is 10 probabilities, \n",
    "#   so we'll use np.argmax()to turn those into actual digits\n",
    "predictions = model.predict(test_images[:5])\n",
    "#print(predictions)\n",
    "print (np.argmax(predictions, axis =1))\n",
    "print(test_labels[:5])"
   ]
  },
  {
   "cell_type": "code",
   "execution_count": null,
   "metadata": {
    "colab": {
     "base_uri": "https://localhost:8080/",
     "height": 1277
    },
    "colab_type": "code",
    "id": "zm4BrF2obdyr",
    "outputId": "b53000a7-733a-495d-b67c-4a97dd9ef900"
   },
   "outputs": [],
   "source": [
    "import matplotlib.pyplot as plt\n",
    "for i in range(0,5):\n",
    "  first_image = test_images[i]\n",
    "  first_image = np.array(first_image, dtype='float')\n",
    "  pixels = first_image.reshape((28, 28))\n",
    "  plt.imshow(pixels, cmap='gray')\n",
    "  plt.show()"
   ]
  }
 ],
 "metadata": {
  "colab": {
   "name": "MNIST_ANN.ipynb",
   "provenance": [],
   "version": "0.3.2"
  },
  "kernelspec": {
   "display_name": "Python 3",
   "language": "python",
   "name": "python3"
  },
  "language_info": {
   "codemirror_mode": {
    "name": "ipython",
    "version": 3
   },
   "file_extension": ".py",
   "mimetype": "text/x-python",
   "name": "python",
   "nbconvert_exporter": "python",
   "pygments_lexer": "ipython3",
   "version": "3.7.7"
  }
 },
 "nbformat": 4,
 "nbformat_minor": 1
}
